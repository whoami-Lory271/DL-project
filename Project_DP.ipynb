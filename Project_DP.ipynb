{
  "nbformat": 4,
  "nbformat_minor": 0,
  "metadata": {
    "colab": {
      "provenance": [],
      "include_colab_link": true
    },
    "kernelspec": {
      "name": "python3",
      "display_name": "Python 3"
    },
    "language_info": {
      "name": "python"
    }
  },
  "cells": [
    {
      "cell_type": "markdown",
      "metadata": {
        "id": "view-in-github",
        "colab_type": "text"
      },
      "source": [
        "<a href=\"https://colab.research.google.com/github/whoami-Lory271/DL-project/blob/main/Project_DP.ipynb\" target=\"_parent\"><img src=\"https://colab.research.google.com/assets/colab-badge.svg\" alt=\"Open In Colab\"/></a>"
      ]
    },
    {
      "cell_type": "code",
      "execution_count": null,
      "metadata": {
        "id": "PWp38z3Lq63F"
      },
      "outputs": [],
      "source": [
        "!pip install mathematics_dataset"
      ]
    },
    {
      "cell_type": "code",
      "source": [
        "!python -m mathematics_dataset.generate --filter=linear_1d"
      ],
      "metadata": {
        "id": "TplIFT3gsJOu"
      },
      "execution_count": null,
      "outputs": []
    },
    {
      "cell_type": "code",
      "source": [
        "!git clone https://github.com/deepmind/mathematics_dataset"
      ],
      "metadata": {
        "id": "KquIjxHrtJ0-"
      },
      "execution_count": null,
      "outputs": []
    },
    {
      "cell_type": "code",
      "source": [
        "!pip install --upgrade mathematics_dataset/"
      ],
      "metadata": {
        "id": "QGZsSt13tax7"
      },
      "execution_count": null,
      "outputs": []
    },
    {
      "cell_type": "code",
      "source": [
        "!python -m mathematics_dataset.generate --filter=linear_1d"
      ],
      "metadata": {
        "id": "ogoO-vLmtkBo"
      },
      "execution_count": null,
      "outputs": []
    },
    {
      "cell_type": "code",
      "source": [
        "!python -m mathematics_dataset.generate_to_file --output_dir = \"/content\""
      ],
      "metadata": {
        "id": "uAkSCFqAuP53"
      },
      "execution_count": null,
      "outputs": []
    }
  ]
}