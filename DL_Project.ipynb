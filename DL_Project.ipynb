{
  "nbformat": 4,
  "nbformat_minor": 0,
  "metadata": {
    "colab": {
      "provenance": [],
      "include_colab_link": true
    },
    "kernelspec": {
      "name": "python3",
      "display_name": "Python 3"
    },
    "language_info": {
      "name": "python"
    },
    "gpuClass": "standard"
  },
  "cells": [
    {
      "cell_type": "markdown",
      "metadata": {
        "id": "view-in-github",
        "colab_type": "text"
      },
      "source": [
        "<a href=\"https://colab.research.google.com/github/whoami-Lory271/DL-project/blob/main/DL_Project.ipynb\" target=\"_parent\"><img src=\"https://colab.research.google.com/assets/colab-badge.svg\" alt=\"Open In Colab\"/></a>"
      ]
    },
    {
      "cell_type": "code",
      "source": [
        "from numpy import array\n",
        "from sklearn.preprocessing import OneHotEncoder\n",
        "import math\n",
        "import torch\n",
        "import torch.nn as nn\n",
        "import torch.nn.functional as F\n",
        "from torch.nn.modules.normalization import LayerNorm"
      ],
      "metadata": {
        "id": "6r_zVhYLKhqs"
      },
      "execution_count": null,
      "outputs": []
    },
    {
      "cell_type": "code",
      "source": [
        "def create_vocabulary(sentences):\n",
        "  vocabulary = {}\n",
        "  for s in sentences:\n",
        "    tokens = s.split()\n",
        "    for t in tokens:\n",
        "      vocabulary[t] = 1\n",
        "  return vocabulary"
      ],
      "metadata": {
        "id": "6SSXBIoaKEG8"
      },
      "execution_count": null,
      "outputs": []
    },
    {
      "cell_type": "code",
      "source": [
        "def create_one_hot_encoder(vocabulary):\n",
        "  enc = OneHotEncoder(handle_unknown='ignore')\n",
        "  enc.fit(array(list(vocabulary.keys())).reshape(-1,1))\n",
        "  return enc"
      ],
      "metadata": {
        "id": "Piu4cF7qKbtk"
      },
      "execution_count": null,
      "outputs": []
    },
    {
      "cell_type": "code",
      "source": [
        "def one_hot_encoding(enc,sentence):\n",
        "  X = [[token] for token in sentence.split()]\n",
        "  X = torch.tensor(enc.transform(X).todense(),dtype=torch.float32)\n",
        "  return X"
      ],
      "metadata": {
        "id": "uhBTERsqGOca"
      },
      "execution_count": null,
      "outputs": []
    },
    {
      "cell_type": "code",
      "source": [
        "def position_embedding(input_length,dmodel):\n",
        "  emb = []\n",
        "  for pos in range(input_length):\n",
        "    l = []\n",
        "    for i in range(dmodel):\n",
        "      if i%2 == 0:\n",
        "        l.append(math.sin(pos/10000**(2*i/dmodel)))\n",
        "      else:\n",
        "        l.append(math.cos(pos/10000**(2*i/dmodel)))\n",
        "    emb.append(l)\n",
        "  return torch.tensor(emb,dtype=torch.float32)\n"
      ],
      "metadata": {
        "id": "B8E2HleXTgFz"
      },
      "execution_count": null,
      "outputs": []
    },
    {
      "cell_type": "code",
      "source": [
        "class EmbeddingLayer(nn.Module):\n",
        "  def __init__(self, vocabulary_size, dmodel):\n",
        "    super().__init__()\n",
        "    self.We = nn.Linear(vocabulary_size, dmodel)\n",
        "\n",
        "  def forward(self, x):\n",
        "    return self.We(x)"
      ],
      "metadata": {
        "id": "5VlMntiPnI2Y"
      },
      "execution_count": null,
      "outputs": []
    },
    {
      "cell_type": "code",
      "source": [
        "class SelfAttention(nn.Module):\n",
        "  def __init__(self,dmodel,dk,dv):\n",
        "    super().__init__()\n",
        "    self.dk = dk\n",
        "    self.Wq = nn.Linear(dmodel,dk)\n",
        "    self.Wk = nn.Linear(dmodel,dk)\n",
        "    self.Wv = nn.Linear(dmodel,dv)\n",
        "    self.softmax = nn.Softmax(dim=1)\n",
        "  \n",
        "  def forward(self,x):\n",
        "    Q = self.Wq(x)\n",
        "    K = self.Wk(x)\n",
        "    V = self.Wv(x)\n",
        "    score = self.softmax(Q @ K.T / math.sqrt(self.dk)) @ V\n",
        "    return score"
      ],
      "metadata": {
        "id": "v9OoIF1MgYIw"
      },
      "execution_count": null,
      "outputs": []
    },
    {
      "cell_type": "code",
      "source": [
        "class MultiHeadAttention(nn.Module):\n",
        "  def __init__(self,dmodel,dk,dv,nhead):\n",
        "    super().__init__()\n",
        "    self.nhead = nhead\n",
        "    self.att_layers = nn.ModuleList([SelfAttention(dmodel,dk,dv) for i in range(nhead)])\n",
        "    self.Wo = nn.Linear(dv * nhead, dmodel)\n",
        "  \n",
        "  def forward(self,x):\n",
        "    y = self.att_layers[0](x)\n",
        "    for i in range(1,self.nhead):\n",
        "      y = torch.cat([y,self.att_layers[i](x)],dim=1)\n",
        "    return self.Wo(y)"
      ],
      "metadata": {
        "id": "wJS-HOR2mYjA"
      },
      "execution_count": null,
      "outputs": []
    },
    {
      "cell_type": "code",
      "source": [
        "class FFN(nn.Module):\n",
        "  def __init__(self,dmodel,df):\n",
        "    super().__init__()\n",
        "    self.W1 = nn.Linear(dmodel,df)\n",
        "    self.W2 = nn.Linear(df,dmodel)\n",
        "  \n",
        "  def forward(self,x):\n",
        "    x = self.W1(x)\n",
        "    x = F.relu(x)\n",
        "    x = self.W2(x)\n",
        "    return x\n"
      ],
      "metadata": {
        "id": "Q3a-LqjhyGER"
      },
      "execution_count": null,
      "outputs": []
    },
    {
      "cell_type": "code",
      "source": [
        "class Encoder(nn.Module):\n",
        "  def __init__(self,dmodel,dk,dv,df,nhead):\n",
        "    super().__init__()\n",
        "    self.mha = MultiHeadAttention(dmodel,dk,dv,nhead)\n",
        "    self.norm = LayerNorm(dmodel)\n",
        "    self.ffn = FFN(dmodel,df)\n",
        "  \n",
        "  def forward(self,x):\n",
        "    z = self.mha(x)\n",
        "    z = self.norm(x+z)\n",
        "    y = self.ffn(z)\n",
        "    return self.norm(z+y)\n"
      ],
      "metadata": {
        "id": "mIPuC2RAypA5"
      },
      "execution_count": null,
      "outputs": []
    },
    {
      "cell_type": "code",
      "source": [
        "class Transformer(nn.Module):\n",
        "  def __init__(self,vocabulary_size,dmodel,dk,dv,df,nhead,nlayers):\n",
        "    super().__init__()\n",
        "    self.nlayers = nlayers\n",
        "    self.embedding = EmbeddingLayer(vocabulary_size,dmodel)\n",
        "    self.encoders = nn.ModuleList([Encoder(dmodel,dk,dv,df,nhead) for i in range(nlayers)])\n",
        "  \n",
        "  def forward(self,x):\n",
        "    emb = self.embedding(x) * math.sqrt(dmodel)\n",
        "    t = position_embedding(x.shape[0],dmodel)\n",
        "    x = emb + t\n",
        "    for i in range(self.nlayers):\n",
        "      x = self.encoders[i](x)\n",
        "    return x"
      ],
      "metadata": {
        "id": "0lB1U2Ee4UCh"
      },
      "execution_count": null,
      "outputs": []
    },
    {
      "cell_type": "code",
      "source": [
        "sentences = [\"dai ragazzi per una volta che ci andiamo non scegliamo il posto che fa pagare poco\",\"altrimenti tanto vale andare a mensa\",\" importante è la compagnia\"]\n",
        "vocabulary = create_vocabulary(sentences)\n",
        "enc = create_one_hot_encoder(vocabulary)"
      ],
      "metadata": {
        "id": "qFlLPZH78meU"
      },
      "execution_count": null,
      "outputs": []
    },
    {
      "cell_type": "code",
      "source": [
        "input = one_hot_encoding(enc,sentences[0])"
      ],
      "metadata": {
        "id": "TcuxIU-xLZd5"
      },
      "execution_count": null,
      "outputs": []
    },
    {
      "cell_type": "code",
      "source": [
        "dmodel = 512\n",
        "dk,dv = 64,64\n",
        "nhead = 8\n",
        "df = 2048\n",
        "nlayers = 6\n",
        "vocabulary_size = len(vocabulary.keys())"
      ],
      "metadata": {
        "id": "K_rQ4Hrr9m9I"
      },
      "execution_count": null,
      "outputs": []
    },
    {
      "cell_type": "code",
      "source": [
        "tran = Transformer(vocabulary_size,dmodel,dk,dv,df,nhead,nlayers)"
      ],
      "metadata": {
        "id": "rcDDXSJ38CgD"
      },
      "execution_count": null,
      "outputs": []
    },
    {
      "cell_type": "code",
      "source": [
        "output = tran(input)"
      ],
      "metadata": {
        "id": "c2gkaNNlLvgK"
      },
      "execution_count": null,
      "outputs": []
    },
    {
      "cell_type": "code",
      "source": [
        "output.shape"
      ],
      "metadata": {
        "colab": {
          "base_uri": "https://localhost:8080/"
        },
        "id": "jGB9vey3hmHW",
        "outputId": "5ee82836-26bf-408a-efa3-6bc1dae5eef2"
      },
      "execution_count": null,
      "outputs": [
        {
          "output_type": "execute_result",
          "data": {
            "text/plain": [
              "torch.Size([16, 512])"
            ]
          },
          "metadata": {},
          "execution_count": 157
        }
      ]
    }
  ]
}